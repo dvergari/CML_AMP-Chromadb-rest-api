{
 "cells": [
  {
   "cell_type": "code",
   "execution_count": null,
   "id": "b76cba1a-6c92-4526-8a29-5a221407b367",
   "metadata": {},
   "outputs": [],
   "source": [
    "import chromadb\n",
    "import os\n",
    "from chromadb.utils import embedding_functions\n",
    "import json"
   ]
  },
  {
   "cell_type": "code",
   "execution_count": null,
   "id": "d9fde79b-37d3-4423-8287-b21c143e8700",
   "metadata": {},
   "outputs": [],
   "source": [
    "# Create the chromadb client and configure the collection\n",
    "\n",
    "EMBEDDING_MODEL_REPO = \"sentence-transformers/all-mpnet-base-v2\"\n",
    "EMBEDDING_MODEL_NAME = \"all-mpnet-base-v2\"\n",
    "EMBEDDING_FUNCTION = embedding_functions.SentenceTransformerEmbeddingFunction(model_name=EMBEDDING_MODEL_NAME)\n",
    "\n",
    "COLLECTION_NAME = os.getenv('COLLECTION_NAME')\n",
    "\n",
    "client = chromadb.PersistentClient(path=\"/home/cdsw/chroma-data\")\n",
    "collection = client.get_collection(name=COLLECTION_NAME, embedding_function=EMBEDDING_FUNCTION)"
   ]
  },
  {
   "cell_type": "code",
   "execution_count": null,
   "id": "149e5fbd-750e-4cd0-ab6f-a7f333bded49",
   "metadata": {},
   "outputs": [],
   "source": [
    "# Count how many documents there are in the collection\n",
    "collection.count()"
   ]
  },
  {
   "cell_type": "code",
   "execution_count": null,
   "id": "9be1329c-c687-416f-88ad-b4adf0773ce6",
   "metadata": {},
   "outputs": [],
   "source": [
    "# Execute a similarity search \n",
    "result = collection.query(\n",
    "    query_texts=\"Need help about my purchased product\",\n",
    "    n_results=5,\n",
    ")\n",
    "\n",
    "print(json.dumps(result, indent=4))"
   ]
  },
  {
   "cell_type": "code",
   "execution_count": null,
   "id": "17e2daa5-1b77-41b0-acf0-952ecbbb445f",
   "metadata": {},
   "outputs": [],
   "source": []
  }
 ],
 "metadata": {
  "kernelspec": {
   "display_name": "Python 3 (ipykernel)",
   "language": "python",
   "name": "python3"
  },
  "language_info": {
   "codemirror_mode": {
    "name": "ipython",
    "version": 3
   },
   "file_extension": ".py",
   "mimetype": "text/x-python",
   "name": "python",
   "nbconvert_exporter": "python",
   "pygments_lexer": "ipython3",
   "version": "3.10.13"
  }
 },
 "nbformat": 4,
 "nbformat_minor": 5
}
